{
 "cells": [
  {
   "cell_type": "markdown",
   "metadata": {
    "slideshow": {
     "slide_type": "slide"
    }
   },
   "source": [
    "# First Steps for Mathematics in Python"
   ]
  },
  {
   "cell_type": "markdown",
   "metadata": {
    "slideshow": {
     "slide_type": "slide"
    }
   },
   "source": [
    "# 1.- Installing\n",
    "\n",
    "### Our purpose: to install...\n",
    "- The **Python interpreter** (3.x)\n",
    "- Some **Mathematical packages**: *numpy*, *matplotlib*, *scipy*, *pandas*...\n",
    "- An appropriate editor or **development environment**: Jupyter, Spyder..."
   ]
  },
  {
   "cell_type": "markdown",
   "metadata": {
    "slideshow": {
     "slide_type": "slide"
    }
   },
   "source": [
    "### Possibilities:\n",
    "\n",
    "    \n",
    "1. **Recommended to get started**: to install a free *scientific Python distribution. For instance, [Anaconda](https://www.anaconda.com/distribution/)\n",
    "     - Pross: easy installing. \n",
    "     - Cons: you need to download a huge file and may install utilities that you don't need\n",
    "2. *For experts only*: manual install each one of the previously enumerated components (Python 3.x, *numpy*, etc).\n",
    "    - That is not difficult if you use *GNU/Linux* or some installer like *[Miniconda](https://docs.conda.io/en/latest/miniconda.html)*\n",
    "    - See e.g. https://www.scipy.org/install.html\n",
    "    - Pros: \n",
    "        - You download and install only what you need, you consume less resources (disk usage)\n",
    "        - If you use *pip* (python package system), you can update to latests versions\n",
    "\n",
    "     "
   ]
  },
  {
   "cell_type": "markdown",
   "metadata": {
    "slideshow": {
     "slide_type": "slide"
    }
   },
   "source": [
    "### *Exercise*: Installing a Scientific Python Environment\n",
    "\n",
    "1- **Install** in your computer **Anaconda**, or manually install the following pacakges:\n",
    "    \n",
    "- Python intrerpreter 3.X (for instance, 3.7)\n",
    "- Scientific libraries: *matplotlib*, *numpy*, *scipy*\n",
    "- Development environments: Jupyter, Spyder\n",
    "\n",
    "2- **Test** the instalation.\n",
    "- When Anaconda is installed you can access to a \n",
    "    - Graphical user interface, called *Anaconda **Navigator***, and to a\n",
    "    - Command line interface, called *Anaconda **Prompt***, that we will call \"***terminal***\".\n",
    "        - In fact in Unix systems like MacOS X or GNU/Linux, the it is just the usual terminal\n",
    "- If you did not install Anaconda, you can use your Unix terminal for all the functionality"
   ]
  },
  {
   "cell_type": "markdown",
   "metadata": {
    "slideshow": {
     "slide_type": "slide"
    }
   },
   "source": [
    "## 2.- Starting to do Mathematics in Python\n",
    "\n",
    "### Our purpose: testing some environments for writing Python code:\n",
    "\n",
    "- Jupyter\n",
    "- Spyder\n"
   ]
  },
  {
   "cell_type": "markdown",
   "metadata": {
    "slideshow": {
     "slide_type": "slide"
    }
   },
   "source": [
    "### *IPython*: Interactive Access to the Python Interpreter\n",
    "\n",
    "- **Python** is both the name of a **computer language** and the name of a program, the **interpreter**, that can run programs in that language\n",
    "- **IPython** is an improved interpreter. It includes nice features: syntax highlighting, proper indentation, tab completion, etc\n",
    "- To use it, type the following command in your computer’s terminal:\n",
    "```sh\n",
    "ipython\n",
    "```\n",
    "obtaining the prompt:\n",
    "```python\n",
    "In [1]:                                                                         \n",
    "```\n",
    "- Ipython can be used as a calculator:\n",
    "```python\n",
    "In [1]: 6 + 5*4  \n",
    "Out[1]: 26\n",
    "```"
   ]
  },
  {
   "cell_type": "markdown",
   "metadata": {
    "slideshow": {
     "slide_type": "subslide"
    }
   },
   "source": [
    "- You can define variables:\n",
    "```python\n",
    "In [2]: approx_pi = 355/113\n",
    "```\n",
    "Now, write *ap* and press the `Tab` or `->|` key, obtaining:\n",
    "```python\n",
    "In [3]: approx_pi\n",
    "Out[3]: 3.1415929203539825\n",
    "```\n",
    "- In Python, variable names are **case sensitive**:\n",
    "\n",
    "```python\n",
    "In [4]: Approx_pi\n",
    "\n",
    "Approx_pi                                                               \n",
    "---------------------------------------------------------------------------\n",
    "NameError                                 Traceback (most recent call last)\n",
    "<ipython-input-9-e22190dfd35d> in <module>\n",
    "----> 1 Approx_pi\n",
    "\n",
    "NameError: name 'Approx_pi' is not defined\n",
    "```\n",
    "- Note that Python shows an \"arrow\" pointing to the error"
   ]
  },
  {
   "cell_type": "markdown",
   "metadata": {
    "slideshow": {
     "slide_type": "slide"
    }
   },
   "source": [
    "### Jupyter: \n",
    "\n",
    "An **extended Ipython** environment that allows:\n",
    "- Executable *code* (Python or other languages!), \n",
    "- Formatted *text* (including $\\LaTeX$!), \n",
    "- *Graphics*, \n",
    "- *Interactive* features (animation, widgets, etc)\n",
    "\n",
    "... **combined into a single document**, called a **notebook**."
   ]
  },
  {
   "cell_type": "markdown",
   "metadata": {
    "slideshow": {
     "slide_type": "slide"
    }
   },
   "source": [
    "### IPython in a web browser\n",
    "\n",
    "![Jupyter idea](https://raw.githubusercontent.com/rrgalvan/numerical_python_course/master/img/jupyter_idea.png)"
   ]
  },
  {
   "cell_type": "markdown",
   "metadata": {
    "slideshow": {
     "slide_type": "slide"
    }
   },
   "source": [
    "### Using Jupyter\n",
    "\n",
    "- In the terminal, write `jupyter notebook`\n",
    "\n",
    "![Jupyter](https://jupyter.readthedocs.io/en/latest/_images/tryjupyter_file.png)"
   ]
  },
  {
   "cell_type": "markdown",
   "metadata": {
    "slideshow": {
     "slide_type": "slide"
    }
   },
   "source": [
    "#### Start programming Python:\n",
    "    \n",
    "- Click on `New`, `Python 3`\n",
    "- Write code in a cell as a calculator (like *IPython* environment)"
   ]
  },
  {
   "cell_type": "code",
   "execution_count": 1,
   "metadata": {
    "slideshow": {
     "slide_type": "fragment"
    }
   },
   "outputs": [
    {
     "data": {
      "text/plain": [
       "4"
      ]
     },
     "execution_count": 1,
     "metadata": {},
     "output_type": "execute_result"
    }
   ],
   "source": [
    "2+2"
   ]
  },
  {
   "cell_type": "markdown",
   "metadata": {
    "slideshow": {
     "slide_type": "fragment"
    }
   },
   "source": [
    "- You can modify the name of the file: click on the default name, `Untitled`\n",
    "- Where are your notebook files? Platform specific. Try writting `!pwd`"
   ]
  },
  {
   "cell_type": "markdown",
   "metadata": {
    "slideshow": {
     "slide_type": "slide"
    }
   },
   "source": [
    "## Using Spyder\n",
    "\n",
    "![Spyder](https://www.spyder-ide.org/static/images/spyder_website_banner.png)"
   ]
  },
  {
   "cell_type": "code",
   "execution_count": null,
   "metadata": {},
   "outputs": [],
   "source": []
  }
 ],
 "metadata": {
  "@webio": {
   "lastCommId": null,
   "lastKernelId": null
  },
  "celltoolbar": "Slideshow",
  "kernelspec": {
   "display_name": "Python 3",
   "language": "python",
   "name": "python3"
  },
  "language_info": {
   "codemirror_mode": {
    "name": "ipython",
    "version": 3
   },
   "file_extension": ".py",
   "mimetype": "text/x-python",
   "name": "python",
   "nbconvert_exporter": "python",
   "pygments_lexer": "ipython3",
   "version": "3.6.8"
  }
 },
 "nbformat": 4,
 "nbformat_minor": 2
}
