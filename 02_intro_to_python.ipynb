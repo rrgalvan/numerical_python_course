{
 "cells": [
  {
   "cell_type": "markdown",
   "metadata": {},
   "source": [
    "<table>\n",
    " <tr align=left><td><img align=left src=\"./images/CC-BY.png\">\n",
    " <td>Text provided under a Creative Commons Attribution license, CC-BY. All code is made available under the FSF-approved MIT license. (c) Kyle T. Mandli</td>\n",
    "</table>"
   ]
  },
  {
   "cell_type": "code",
   "execution_count": null,
   "metadata": {},
   "outputs": [],
   "source": [
    "from __future__ import print_function, division"
   ]
  },
  {
   "cell_type": "markdown",
   "metadata": {},
   "source": [
    "# Discussion 1:  Introduction to Python\n",
    "\n",
    "So you want to code in Python?  We will do some basic manipulations and demonstrate some of the basics of the notebook interface that we will be using extensively throughout the course.\n",
    "\n",
    "Topics:\n",
    " - Math\n",
    " - Variables\n",
    " - Lists\n",
    " - Control flow\n",
    " - Coding style\n",
    " - Other data structures\n",
    " - IPython/Jupyter notebooks\n",
    "   \n",
    "Other intros: \n",
    " - [Basic Python](https://docs.python.org/2/tutorial/introduction.html)\n",
    " - [Software Carpentry - Programming in Python](http://swcarpentry.github.io/python-novice-inflammation/)\n"
   ]
  },
  {
   "cell_type": "markdown",
   "metadata": {},
   "source": [
    "## Python Math\n",
    "\n",
    "Lets start with some basic functions:"
   ]
  },
  {
   "cell_type": "code",
   "execution_count": null,
   "metadata": {},
   "outputs": [],
   "source": [
    "2 + 2"
   ]
  },
  {
   "cell_type": "code",
   "execution_count": null,
   "metadata": {},
   "outputs": [],
   "source": [
    "32 - (4 + 2)**2"
   ]
  },
  {
   "cell_type": "code",
   "execution_count": null,
   "metadata": {},
   "outputs": [],
   "source": [
    "1 / 2"
   ]
  },
  {
   "cell_type": "code",
   "execution_count": null,
   "metadata": {},
   "outputs": [],
   "source": [
    "4.0 + 4.0**(3.0 / 2.0)"
   ]
  },
  {
   "cell_type": "markdown",
   "metadata": {},
   "source": [
    "Good practice to just add a decimal after any number you really want to treat as a `float`.\n",
    "\n",
    "Additional types of numbers include `complex`, `Decimal` and `Fraction`."
   ]
  },
  {
   "cell_type": "code",
   "execution_count": null,
   "metadata": {},
   "outputs": [],
   "source": [
    "3+5j"
   ]
  },
  {
   "cell_type": "markdown",
   "metadata": {},
   "source": [
    "Note that to use \"named\" functions such as `sqrt` or `sin` we need to `import` a module so that we have access to those functions.  When you `import` a module (or package) in Python we are asking Python to go look for the code that is named and make them active in our workspace (also called a namespace in more general parlance).  Here is an example where we use Python's builtin `math` module:"
   ]
  },
  {
   "cell_type": "code",
   "execution_count": null,
   "metadata": {},
   "outputs": [],
   "source": [
    "import math\n",
    "math.sqrt(4)"
   ]
  },
  {
   "cell_type": "code",
   "execution_count": null,
   "metadata": {},
   "outputs": [],
   "source": [
    "math.sin(math.pi / 2.0)"
   ]
  },
  {
   "cell_type": "code",
   "execution_count": null,
   "metadata": {},
   "outputs": [],
   "source": [
    "math.exp(-math.pi / 4.0)"
   ]
  },
  {
   "cell_type": "markdown",
   "metadata": {},
   "source": [
    "Note that in order to access these functions we need to prepend the `math.` to the functions and the constant $\\pi$.  We can forgo this and import all of what `math` holds if we do the following:"
   ]
  },
  {
   "cell_type": "code",
   "execution_count": null,
   "metadata": {},
   "outputs": [],
   "source": [
    "from math import *\n",
    "sin(pi / 2.0)"
   ]
  },
  {
   "cell_type": "markdown",
   "metadata": {},
   "source": [
    "Note that many of these functions always return a `float` number regardless of their input."
   ]
  },
  {
   "cell_type": "markdown",
   "metadata": {},
   "source": [
    "## Variables\n",
    "\n",
    "Assign variables like you would in any other language:"
   ]
  },
  {
   "cell_type": "code",
   "execution_count": null,
   "metadata": {},
   "outputs": [],
   "source": [
    "num_students = 80\n",
    "room_capacity = 85\n",
    "(room_capacity - num_students) / room_capacity * 100.0"
   ]
  },
  {
   "cell_type": "markdown",
   "metadata": {},
   "source": [
    "As indicated in the previous section, there are many different data types. For example, a variable could be an integer, a floating point number, a string, or numerous other basic types. Python will determine the data type based on how you enter it. \n",
    "\n",
    "In the following example, three different variables are defined, and the type associated with each variable is printed."
   ]
  },
  {
   "cell_type": "code",
   "execution_count": null,
   "metadata": {},
   "outputs": [],
   "source": [
    "number = 5\n",
    "ratio = 0.15\n",
    "description = \"The ratio is\"\n",
    "doit = False\n",
    "print(number,type(number))\n",
    "print(ratio,type(ratio))\n",
    "print(description,type(description))\n",
    "print(doit,type(doit))"
   ]
  },
  {
   "cell_type": "markdown",
   "metadata": {},
   "source": [
    "The data type can be explicitly defined using the float() and int() commands."
   ]
  },
  {
   "cell_type": "code",
   "execution_count": null,
   "metadata": {},
   "outputs": [],
   "source": [
    "number = int(5)\n",
    "ratio = float(0.15)\n",
    "print(number,type(number))\n",
    "print(ratio,type(ratio))"
   ]
  },
  {
   "cell_type": "markdown",
   "metadata": {},
   "source": [
    "One thing to be careful about is that Python is case sensitive."
   ]
  },
  {
   "cell_type": "code",
   "execution_count": null,
   "metadata": {},
   "outputs": [],
   "source": [
    "N = 20\n",
    "n = 10\n",
    "print(N,n)"
   ]
  },
  {
   "cell_type": "markdown",
   "metadata": {},
   "source": [
    "## Lists\n",
    "\n",
    "One of the most useful data structures in Python is the `list`."
   ]
  },
  {
   "cell_type": "code",
   "execution_count": null,
   "metadata": {},
   "outputs": [],
   "source": [
    "grades = [90.0, 67.0, 85.0, 76.0, 98.0, 70.0]"
   ]
  },
  {
   "cell_type": "markdown",
   "metadata": {},
   "source": [
    "Lists are defined with square brackets and delineated by commas.  Note that there is another data type called `sequences` denoted by `( )` which are immutable (cannot be changed) once created.  Lets try to do some list manipulations with our list of grades above."
   ]
  },
  {
   "cell_type": "markdown",
   "metadata": {},
   "source": [
    "Access a single value in a list"
   ]
  },
  {
   "cell_type": "code",
   "execution_count": null,
   "metadata": {},
   "outputs": [],
   "source": [
    "grades[3]"
   ]
  },
  {
   "cell_type": "markdown",
   "metadata": {},
   "source": [
    "Note that Python is 0 indexed, i.e. the first value in the list is accessed by `0`. Reverse indexing is done using negative value starting from -1 which corresponds to the last element"
   ]
  },
  {
   "cell_type": "code",
   "execution_count": null,
   "metadata": {},
   "outputs": [],
   "source": [
    "grades[-1]"
   ]
  },
  {
   "cell_type": "markdown",
   "metadata": {},
   "source": [
    "Find the length of a list"
   ]
  },
  {
   "cell_type": "code",
   "execution_count": null,
   "metadata": {},
   "outputs": [],
   "source": [
    "len(grades)"
   ]
  },
  {
   "cell_type": "markdown",
   "metadata": {},
   "source": [
    "There are multiple ways to append values into a list."
   ]
  },
  {
   "cell_type": "code",
   "execution_count": null,
   "metadata": {},
   "outputs": [],
   "source": [
    "grades = grades + [62.0, 82.0, 59.0]\n",
    "print(grades)\n",
    "grades.append(88.0)\n",
    "print(grades)"
   ]
  },
  {
   "cell_type": "markdown",
   "metadata": {},
   "source": [
    "You can use the standard indexing method shown above to change a value within the array."
   ]
  },
  {
   "cell_type": "code",
   "execution_count": null,
   "metadata": {},
   "outputs": [],
   "source": [
    "grades[1] = 68.0\n",
    "print(grades)"
   ]
  },
  {
   "cell_type": "markdown",
   "metadata": {},
   "source": [
    "Slicing is another important operation"
   ]
  },
  {
   "cell_type": "code",
   "execution_count": null,
   "metadata": {},
   "outputs": [],
   "source": [
    "grades[2:5]"
   ]
  },
  {
   "cell_type": "code",
   "execution_count": null,
   "metadata": {},
   "outputs": [],
   "source": [
    "grades[0:4]"
   ]
  },
  {
   "cell_type": "code",
   "execution_count": null,
   "metadata": {},
   "outputs": [],
   "source": [
    "grades[:4]"
   ]
  },
  {
   "cell_type": "code",
   "execution_count": null,
   "metadata": {},
   "outputs": [],
   "source": [
    "grades[4:]"
   ]
  },
  {
   "cell_type": "markdown",
   "metadata": {},
   "source": [
    "Note that the range of values does not include the last indexed!  This is important to remember for more than lists but we will get to that later."
   ]
  },
  {
   "cell_type": "code",
   "execution_count": null,
   "metadata": {},
   "outputs": [],
   "source": [
    "grades[4:11]"
   ]
  },
  {
   "cell_type": "markdown",
   "metadata": {},
   "source": [
    "Another property of lists is that you can put different types in them at the same time.  This can be important to remember if you may have both `int` and `float` types."
   ]
  },
  {
   "cell_type": "code",
   "execution_count": null,
   "metadata": {},
   "outputs": [],
   "source": [
    "remember = [int(\"2\"), 2, 2.0]"
   ]
  },
  {
   "cell_type": "markdown",
   "metadata": {},
   "source": [
    "A list can also hold any data type or data structure inside it, for example a list inside a list (referred to as nested lists) is helpful in defining matrices (although we will find a better way to do this later)."
   ]
  },
  {
   "cell_type": "code",
   "execution_count": null,
   "metadata": {},
   "outputs": [],
   "source": [
    "matrix_a = [[1],[2],[3]]"
   ]
  },
  {
   "cell_type": "code",
   "execution_count": null,
   "metadata": {},
   "outputs": [],
   "source": [
    "remember[0] / 1"
   ]
  },
  {
   "cell_type": "code",
   "execution_count": null,
   "metadata": {},
   "outputs": [],
   "source": [
    "remember[1] / 1"
   ]
  },
  {
   "cell_type": "code",
   "execution_count": null,
   "metadata": {},
   "outputs": [],
   "source": [
    "remember[2] / 1"
   ]
  },
  {
   "cell_type": "markdown",
   "metadata": {},
   "source": [
    "Finally, one of the more useful list creation functions is `range` which creates a list with the bounds requested. This creates a special type within Python, but it acts like an array."
   ]
  },
  {
   "cell_type": "code",
   "execution_count": null,
   "metadata": {},
   "outputs": [],
   "source": [
    "values = range(3,7)\n",
    "print(values,type(values))\n",
    "print(values[0],values[1],values[2])\n",
    "for i in range(3, 7):\n",
    "    print(i)"
   ]
  },
  {
   "cell_type": "markdown",
   "metadata": {},
   "source": [
    "## Comments\n",
    "\n",
    "Comments can be added to code using the `#` character. Anything after `#` on a line is ignored."
   ]
  },
  {
   "cell_type": "code",
   "execution_count": null,
   "metadata": {},
   "outputs": [],
   "source": [
    "# Set up the parameters associated with the partition\n",
    "N = 10                  # Number of partitions to use\n",
    "b = 1.0                 # The right endpoint of the interval\n",
    "a = 0.0                 # The left endpoint of the interval\n",
    "deltaX = (b-a)/float(N) # The width of each interval\n",
    "print(\"The interval width is {0}\".format(deltaX))"
   ]
  },
  {
   "cell_type": "markdown",
   "metadata": {},
   "source": [
    "## Control Flow\n",
    "\n",
    "In this section a number of different ways to control and define which commands are executed are given. The commands include conditional expressions like 'if' blocks that decide individual sets of commands to execute. It also includes 'for' loops which define a sequence of commands to execute in order. Finally, the 'while' loop is given which will loop through a set of commands until some condition is met.\n",
    "\n",
    "### `if`\n",
    "This is the basic logical control. A set of instructions is executed if a given condition is met. Note that Python decides what set of commands to execute based on how the code is indented. The '{' and '}' characters have a very different meaning in Python than in C, C++, or Java.\n",
    "\n",
    "Note: See full list of operators supported in python [here](https://www.tutorialspoint.com/python/python_basic_operators.htm)"
   ]
  },
  {
   "cell_type": "code",
   "execution_count": null,
   "metadata": {},
   "outputs": [],
   "source": [
    "x = 5\n",
    "if x > 5:\n",
    "    itsBig = True\n",
    "    print(\"x is greater than 5\")\n",
    "elif x < 5:\n",
    "    itsBig = False\n",
    "    print(\"x is less than 5\")\n",
    "else:\n",
    "    itsBig = not True\n",
    "    print(\"x is equal to 5\")\n",
    "print(\"The value of itsBig is {0}\".format(itsBig))"
   ]
  },
  {
   "cell_type": "markdown",
   "metadata": {},
   "source": [
    "### `for` loops\n",
    "\n",
    "The `for` statements provide the most common type of loops in Python. The idea is that a set of commands will be repeated for a fixed number of times. The command requires a variable that can be iterated over, and each time the loop repeats a new value from the variable is used. For example, if an array is given the `for` loop will iterate over each value within the array. (there is also a `while` construct). "
   ]
  },
  {
   "cell_type": "code",
   "execution_count": null,
   "metadata": {},
   "outputs": [],
   "source": [
    "accumulator = 0\n",
    "for i in range(-10, 5, 3):\n",
    "    accumulator += 1\n",
    "    print(i)\n",
    "print(\"The number of times the loop repeated is {0}\".format(accumulator))"
   ]
  },
  {
   "cell_type": "code",
   "execution_count": null,
   "metadata": {},
   "outputs": [],
   "source": [
    "for i in range(3,7):\n",
    "    print(i)"
   ]
  },
  {
   "cell_type": "code",
   "execution_count": null,
   "metadata": {},
   "outputs": [],
   "source": [
    "for (i, animal) in enumerate(['cat', 'dog', 'chinchilla']):\n",
    "    if i%2 == 0:\n",
    "        print(i, animal)"
   ]
  },
  {
   "cell_type": "markdown",
   "metadata": {},
   "source": [
    "The above can be written in a single line and also save the outputs to a new list, by using list comprehension"
   ]
  },
  {
   "cell_type": "code",
   "execution_count": null,
   "metadata": {},
   "outputs": [],
   "source": [
    "animal_new = [ animal.capitalize() for animal in ['cat', 'dog', 'chinchilla']]\n",
    "range_new = [ i for i in range(3,7)]\n",
    "print(animal_new, range_new)"
   ]
  },
  {
   "cell_type": "markdown",
   "metadata": {},
   "source": [
    "Related to the `for` statement are the control statements `break` and `continue`.  Ideally we can create a loop with logic that can avoid these but sometimes code can be more readable with judiciuos use of these statements. This is especially true for `while` loops and separate checks have to be made for iteration counts."
   ]
  },
  {
   "cell_type": "code",
   "execution_count": null,
   "metadata": {},
   "outputs": [],
   "source": [
    "for n in range(2, 10):\n",
    "    is_prime = True\n",
    "    for x in range(2, n):\n",
    "        if n % x == 0:\n",
    "            print(n, 'equals', x, '*', n / x)\n",
    "            is_prime = False\n",
    "            break\n",
    "    if is_prime:\n",
    "        print(\"%s is a prime number\" % (n))"
   ]
  },
  {
   "cell_type": "markdown",
   "metadata": {},
   "source": [
    "### The `while` Loop\n",
    "\n",
    "The set of commands in a while loop are executed while a given condition is True."
   ]
  },
  {
   "cell_type": "code",
   "execution_count": null,
   "metadata": {
    "code_folding": []
   },
   "outputs": [],
   "source": [
    "top    = 10\n",
    "bottom = 0\n",
    "while (top>bottom):\n",
    "    print(\"top: {0}, bottom: {1}\".format(top,bottom))\n",
    "    top    -= 1\n",
    "    bottom += 1"
   ]
  },
  {
   "cell_type": "markdown",
   "metadata": {},
   "source": [
    "The `pass` statement might appear fairly useless as it simply does nothing but can provide a stub to remember to come back and implement something."
   ]
  },
  {
   "cell_type": "code",
   "execution_count": null,
   "metadata": {},
   "outputs": [],
   "source": [
    "def my_func(x):\n",
    "    # Remember to implement this later!\n",
    "    pass"
   ]
  },
  {
   "cell_type": "markdown",
   "metadata": {
    "slideshow": {
     "slide_type": "slide"
    }
   },
   "source": [
    "### Defining Functions\n",
    "\n",
    "The last statement above defines a function in Python with an argument called `x`.  Functions can be defined and do lots of different things, here are a few examples."
   ]
  },
  {
   "cell_type": "code",
   "execution_count": null,
   "metadata": {
    "slideshow": {
     "slide_type": "subslide"
    }
   },
   "outputs": [],
   "source": [
    "def my_print_function(x):\n",
    "    print(x)\n",
    "\n",
    "my_print_function(3)"
   ]
  },
  {
   "cell_type": "code",
   "execution_count": null,
   "metadata": {
    "slideshow": {
     "slide_type": "subslide"
    }
   },
   "outputs": [],
   "source": [
    "def my_add_function(a, b):\n",
    "    return(a + b)\n",
    "\n",
    "my_add_function(3.0, 5.0)"
   ]
  },
  {
   "cell_type": "markdown",
   "metadata": {},
   "source": [
    "A variable can be given a implicit value while defining the function, this value remains unchanged unless user specifies a different value"
   ]
  },
  {
   "cell_type": "code",
   "execution_count": null,
   "metadata": {
    "slideshow": {
     "slide_type": "subslide"
    }
   },
   "outputs": [],
   "source": [
    "def my_crazy_function(a, b, c=1.0):\n",
    "    d = a + b**c\n",
    "    return d\n",
    "\n",
    "my_crazy_function(2.0, 3.0), my_crazy_function(2.0, 3.0, 2.0), my_crazy_function(2.0, 3.0, c=2.0)"
   ]
  },
  {
   "cell_type": "code",
   "execution_count": null,
   "metadata": {
    "slideshow": {
     "slide_type": "subslide"
    }
   },
   "outputs": [],
   "source": [
    "def my_other_function(a, b, c=1.0):\n",
    "    return a + b, a + b**c, a + b**(3.0 / 7.0)\n",
    "\n",
    "x = my_other_function(2.0, 3.0, c=2.0)\n",
    "x[0]"
   ]
  },
  {
   "cell_type": "markdown",
   "metadata": {
    "slideshow": {
     "slide_type": "subslide"
    }
   },
   "source": [
    "Let's try writing a bit more of a complex (and useful) function.  The Fibinocci sequence is formed by adding the previous two numbers of the sequence to get the next value (starting with `[0, 1]`)."
   ]
  },
  {
   "cell_type": "code",
   "execution_count": null,
   "metadata": {
    "slideshow": {
     "slide_type": "subslide"
    }
   },
   "outputs": [],
   "source": [
    "def fibonacci(n):\n",
    "    \"\"\"Return a list of the Fibonacci sequence up to n\"\"\"\n",
    "    values = [0, 1]\n",
    "    while values[-1] <= n:\n",
    "        values.append(values[-1] + values[-2])\n",
    "        print(values)\n",
    "    return values\n",
    "\n",
    "fibonacci(100)"
   ]
  },
  {
   "cell_type": "markdown",
   "metadata": {},
   "source": [
    "There are several other data structures useful in python, you can read more about it and its functions [here](https://docs.python.org/3/tutorial/datastructures.html)"
   ]
  },
  {
   "cell_type": "markdown",
   "metadata": {
    "slideshow": {
     "slide_type": "subslide"
    }
   },
   "source": [
    "## Coding Style\n",
    "\n",
    "It is very important to write readable and understandable code. This is a practical matter. There are times when you have to go back and make changes to code you have not used in a long time. More importantly, coding is a shared activity, and if your code is not readable then it is not of any use.\n",
    "\n",
    "Here are a few things to keep in mind while programming in and out of this class, we will work on this actively as the semester progresses as well.  The standard for which Python program are written to is called [PEP 8](http://www.python.org/dev/peps/pep-0008) and contains the following basic guidelines:\n",
    " - Use 4-space indentation, no tabs\n",
    " - Wrap lines that exceed 80 characters\n",
    " - Use judicious use of blank lines to separate out functions, classes, and larger blocks of contained code\n",
    " - Comment!  Also, put comments on their own line when possible\n",
    " - Use `docstrings` (function descriptions)\n",
    " - Use spaces around operators and after commas, `a = f(1, 2) + g(3, 4)`\n",
    " - Name your classes and functions consistently.\n",
    "   - Use `CamelCase` for classes\n",
    "   - Use `lower_case_with_underscores` for functions and variables\n",
    " - When in doubt be verbose with your comments and names of variables, functions, and classes"
   ]
  },
  {
   "cell_type": "markdown",
   "metadata": {},
   "source": [
    "To help all of us learn from each other what coding styles are easier to read we will be doing peer-reviews of the coding portions of the assignments.  After the first asssignment is turned in we will review a general template for code review which you will need to fill out for each of your peer's homework.  Please be as thorough and helpful as you can!"
   ]
  },
  {
   "cell_type": "markdown",
   "metadata": {},
   "source": [
    "Note: Use the `help()` function or a `?` at the end of the function to see the respective function's documentation. One could also use tab key to autocomplete and view the list of available functions.  "
   ]
  },
  {
   "cell_type": "markdown",
   "metadata": {},
   "source": [
    "## Jupyter Notebooks\n",
    "\n",
    "We will use a lot of Jupyter notebooks in this class for both class notes (what you are looking at now) and for turning in homework.  The Jupyter notebook allows for the inline inclusion of a number of different types of input, the most critical will be\n",
    " - Code (python or otherwise) and\n",
    " - Markdown which includes\n",
    "   - LaTeX,\n",
    "   - HTML, and\n",
    "   - JavaScript.\n",
    "IPython notebooks allow us to organize and comment on our efforts together along with writing active documents that can be modified in-situ to our work.  This can lead to better practice of important ideas such as reproducibility in our work."
   ]
  }
 ],
 "metadata": {
  "kernelspec": {
   "display_name": "Python 3",
   "language": "python",
   "name": "python3"
  },
  "language_info": {
   "codemirror_mode": {
    "name": "ipython",
    "version": 3
   },
   "file_extension": ".py",
   "mimetype": "text/x-python",
   "name": "python",
   "nbconvert_exporter": "python",
   "pygments_lexer": "ipython3",
   "version": "3.6.8"
  },
  "latex_envs": {
   "bibliofile": "biblio.bib",
   "cite_by": "apalike",
   "current_citInitial": 1,
   "eqLabelWithNumbers": true,
   "eqNumInitial": 0
  }
 },
 "nbformat": 4,
 "nbformat_minor": 1
}
