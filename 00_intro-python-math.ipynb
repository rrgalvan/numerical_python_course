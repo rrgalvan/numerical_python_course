{
 "cells": [
  {
   "cell_type": "markdown",
   "metadata": {
    "slideshow": {
     "slide_type": "skip"
    }
   },
   "source": [
    "<table boder=0>\n",
    " <tr align=left><td><img align=left src=\"https://raw.githubusercontent.com/rrgalvan/numerical_python_course/master/img/CC-BY.png\">\n",
    " <td>(c) J. Rafael Rodríguez Galván. (c) Kyle T. Mandli. Text provided under a Creative Commons Attribution free license, CC-BY. </td>\n",
    "</table>"
   ]
  },
  {
   "cell_type": "markdown",
   "metadata": {
    "slideshow": {
     "slide_type": "slide"
    }
   },
   "source": [
    "# Python in Mathematics"
   ]
  },
  {
   "cell_type": "markdown",
   "metadata": {
    "slideshow": {
     "slide_type": "slide"
    }
   },
   "source": [
    "![a](f)"
   ]
  },
  {
   "cell_type": "markdown",
   "metadata": {
    "slideshow": {
     "slide_type": "slide"
    }
   },
   "source": [
    "## Computer Languages in Mathematics"
   ]
  },
  {
   "cell_type": "markdown",
   "metadata": {
    "slideshow": {
     "slide_type": "slide"
    }
   },
   "source": [
    "### C, C++, Fortran\n",
    "\n",
    "#### Pros\n",
    "\n",
    "- High performance\n",
    "- Lots of available code and tools\n",
    "\n",
    "#### Cons\n",
    "\n",
    "- Not interactive\n",
    "- Not optimized for agile fast programming\n",
    " "
   ]
  },
  {
   "cell_type": "markdown",
   "metadata": {
    "slideshow": {
     "slide_type": "slide"
    }
   },
   "source": [
    "### Matlab, Mathematica, etc.\n",
    "\n",
    "#### Pros\n",
    "\n",
    "- Interactive, easy visualization tools\n",
    "- Extensive scientific and engineering libraries available\n",
    "    \n",
    "#### Cons\n",
    "\n",
    "- Costly and proprietary\n",
    "  - This is critical for teaching!\n",
    "- Little support for the most recent computing paradigms\n",
    "- Unpleasant for large-scale computing and non-mathematical tasks"
   ]
  },
  {
   "cell_type": "markdown",
   "metadata": {
    "slideshow": {
     "slide_type": "slide"
    }
   },
   "source": [
    "### Python\n",
    "#### Features and Project Goals:\n",
    " - Python is **free** (BSD-like license) and highly portable (Windows, Mac OS X, GNU/Linux, etc.)\n",
    " - **Interactive** interpreter\n",
    " - Designed for **readability** & **simplicity**\n",
    " - Extensive documentation\n",
    " - Memory management is (mostly) transparent\n",
    " - Clean and **object-oriented**"
   ]
  },
  {
   "cell_type": "markdown",
   "metadata": {
    "slideshow": {
     "slide_type": "slide"
    }
   },
   "source": [
    "##### Pros:\n",
    "- Well-established **3rd-party packages**. \n",
    "   - Also in **Mathematics**: NumPy, SciPy, matplotlib, etc.\n",
    "- Easily wraps existing code in C, C++ and Fortran\n",
    "- **Scalability**\n",
    "   - You can start by interactive experimentation\n",
    "   - Good tools for documenting code\n",
    "   - Code can grow from one-line scripts to million-line projects\n",
    "- **Widlely used**, not only for mathematical tasks\n",
    "   - [Let us search \"more used programming languages\" in Google!](https://www.google.com/search?q=more+used+programming+languages)\n",
    "   \n",
    "##### Cons:\n",
    " - Can be **slow** (but there exists ways to sepped it up) \n",
    " - Discipline is forced on the programmer by the design of the language. Can limit choices available for how to implement an algorithm. (The *python* way.)"
   ]
  }
 ],
 "metadata": {
  "celltoolbar": "Slideshow",
  "kernelspec": {
   "display_name": "Python 3",
   "language": "python",
   "name": "python3"
  },
  "language_info": {
   "codemirror_mode": {
    "name": "ipython",
    "version": 3
   },
   "file_extension": ".py",
   "mimetype": "text/x-python",
   "name": "python",
   "nbconvert_exporter": "python",
   "pygments_lexer": "ipython3",
   "version": "3.6.8"
  }
 },
 "nbformat": 4,
 "nbformat_minor": 2
}
